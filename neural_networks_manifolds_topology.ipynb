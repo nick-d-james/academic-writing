{
  "nbformat": 4,
  "nbformat_minor": 0,
  "metadata": {
    "colab": {
      "name": "neural_networks_manifolds_topology",
      "provenance": [],
      "authorship_tag": "ABX9TyMNsxrNYMLCs0vUYKG776uE",
      "include_colab_link": true
    },
    "kernelspec": {
      "name": "python3",
      "display_name": "Python 3"
    }
  },
  "cells": [
    {
      "cell_type": "markdown",
      "metadata": {
        "id": "view-in-github",
        "colab_type": "text"
      },
      "source": [
        "<a href=\"https://colab.research.google.com/github/nick-d-james/academic-writing/blob/master/neural_networks_manifolds_topology.ipynb\" target=\"_parent\"><img src=\"https://colab.research.google.com/assets/colab-badge.svg\" alt=\"Open In Colab\"/></a>"
      ]
    },
    {
      "cell_type": "markdown",
      "metadata": {
        "id": "42qUxKpkvtYr",
        "colab_type": "text"
      },
      "source": [
        "# Chris Olah's *Neural Networks, Manifolds, and Topology*\n",
        "              Nick D. James, PhD\n",
        "        The Ottawa Hospital - Systems Architecture\n",
        "---"
      ]
    },
    {
      "cell_type": "markdown",
      "metadata": {
        "id": "QQWfOVmMxM0d",
        "colab_type": "text"
      },
      "source": [
        "## A Simple Example\n",
        "<img src=\"https://colah.github.io/posts/2014-03-NN-Manifolds-Topology/img/simple2_linear.png\" alt=\"Drawing\" width=\"210\"/>\n",
        "\n",
        "- Two input features: $(x_1, x_2) \\in \\mathbb R^2$\n",
        "- Binary ground truth: red (negative), blue (positive)"
      ]
    },
    {
      "cell_type": "code",
      "metadata": {
        "id": "AgtDkEcrM8hK",
        "colab_type": "code",
        "outputId": "b0b3957c-b1fe-4783-f133-94f2c3067d73",
        "colab": {
          "base_uri": "https://localhost:8080/",
          "height": 265
        }
      },
      "source": [
        "import numpy as np\n",
        "import matplotlib.pyplot as plt\n",
        "import seaborn\n",
        "\n",
        "def create_cos_curve_points(n_points=200, mean=0.0, offset=0.0, amplitude=0.5, noise_std_dev=0.1):\n",
        "  return np.asarray([(x, amplitude * (np.random.normal(scale=noise_std_dev) - np.cos(np.pi * x) + offset)) for x in np.random.uniform(-1, 1, size=[n_points])]) \n",
        "\n",
        "def create_perfect_cos_curve_points(n_points=50, mean=0.0, offset=0.0, amplitude=0.5, noise_std_dev=0.1):\n",
        "  return np.asarray([(x, amplitude * (np.random.normal(scale=noise_std_dev) - np.cos(np.pi * x) + offset)) for x in np.linspace(-1, 1, num=n_points)]) \n",
        "\n",
        "# blue_points = create_cos_curve_points(offset=1)\n",
        "# red_points = create_cos_curve_points(offset=-1)\n",
        "blue_points = create_perfect_cos_curve_points(offset=1, noise_std_dev=0)\n",
        "red_points = create_perfect_cos_curve_points(offset=-1, noise_std_dev=0)\n",
        "\n",
        "plt.scatter(blue_points[:,0], blue_points[:,1], color='blue', marker='.', linewidths=0)\n",
        "plt.scatter(red_points[:,0], red_points[:,1], color='red', marker='.', linewidths=0)\n",
        "plt.show()"
      ],
      "execution_count": 7,
      "outputs": [
        {
          "output_type": "display_data",
          "data": {
            "image/png": "[encoded data removed]",
            "text/plain": [
              "<Figure size 432x288 with 1 Axes>"
            ]
          },
          "metadata": {
            "tags": []
          }
        }
      ]
    },
    {
      "cell_type": "code",
      "metadata": {
        "id": "uiG5nKK6ISn5",
        "colab_type": "code",
        "colab": {
          "base_uri": "https://localhost:8080/",
          "height": 52
        },
        "outputId": "d4e925d3-f5b2-4f18-fa0a-6148fcde0c58"
      },
      "source": [
        "X = np.concatenate([blue_points, red_points], axis=0)\n",
        "y = np.concatenate([np.ones(shape=(blue_points.shape[0],)), \n",
        "                    np.zeros(shape=(red_points.shape[0],))])\n",
        "print(\"X.shape = {}\".format(X.shape))\n",
        "print(\"y.shape = {}\".format(y.shape))"
      ],
      "execution_count": 8,
      "outputs": [
        {
          "output_type": "stream",
          "text": [
            "X.shape = (100, 2)\n",
            "y.shape = (100,)\n"
          ],
          "name": "stdout"
        }
      ]
    },
    {
      "cell_type": "code",
      "metadata": {
        "id": "pRa6OAvSi6q4",
        "colab_type": "code",
        "colab": {
          "base_uri": "https://localhost:8080/",
          "height": 104
        },
        "outputId": "3f440e2d-54d4-4d1b-c8bb-1629c2cd0d1f"
      },
      "source": [
        "from sklearn.linear_model import LogisticRegression\n",
        "logreg = LogisticRegression()\n",
        "logreg.fit(X, y)"
      ],
      "execution_count": 9,
      "outputs": [
        {
          "output_type": "execute_result",
          "data": {
            "text/plain": [
              "LogisticRegression(C=1.0, class_weight=None, dual=False, fit_intercept=True,\n",
              "                   intercept_scaling=1, l1_ratio=None, max_iter=100,\n",
              "                   multi_class='auto', n_jobs=None, penalty='l2',\n",
              "                   random_state=None, solver='lbfgs', tol=0.0001, verbose=0,\n",
              "                   warm_start=False)"
            ]
          },
          "metadata": {
            "tags": []
          },
          "execution_count": 9
        }
      ]
    },
    {
      "cell_type": "code",
      "metadata": {
        "id": "ZlhHeLkYjLAx",
        "colab_type": "code",
        "colab": {
          "base_uri": "https://localhost:8080/",
          "height": 265
        },
        "outputId": "00fe63e8-7494-493f-eb73-f611deca5a77"
      },
      "source": [
        "test_points = [(xx, yy) for yy in np.linspace(1, -1, num=400) for xx in np.linspace(-1, 1, num=400)]\n",
        "y_hat = logreg.predict_proba(test_points)[:,1].reshape(400,400)\n",
        "plt.imshow(y_hat, cmap='RdBu', extent=(-1, 1, -1, 1))\n",
        "plt.scatter(blue_points[:,0], blue_points[:,1], color='blue', marker='.', linewidths=0)\n",
        "plt.scatter(red_points[:,0], red_points[:,1], color='red', marker='.', linewidths=0)\n",
        "plt.show()"
      ],
      "execution_count": 6,
      "outputs": [
        {
          "output_type": "display_data",
          "data": {
            "image/png": "[encoded data removed]",
            "text/plain": [
              "<Figure size 432x288 with 1 Axes>"
            ]
          },
          "metadata": {
            "tags": []
          }
        }
      ]
    },
    {
      "cell_type": "code",
      "metadata": {
        "id": "jJF1AQUnlXDs",
        "colab_type": "code",
        "colab": {
          "base_uri": "https://localhost:8080/",
          "height": 34
        },
        "outputId": "7476eaf4-cb41-43b9-d9bf-3aa6ddf32413"
      },
      "source": [
        "test_points[400]"
      ],
      "execution_count": 68,
      "outputs": [
        {
          "output_type": "execute_result",
          "data": {
            "text/plain": [
              "(-1.0, 0.9949874686716792)"
            ]
          },
          "metadata": {
            "tags": []
          },
          "execution_count": 68
        }
      ]
    },
    {
      "cell_type": "code",
      "metadata": {
        "id": "E1CtHHf6Djt-",
        "colab_type": "code",
        "colab": {
          "base_uri": "https://localhost:8080/",
          "height": 192
        },
        "outputId": "7c941d48-3eb5-486f-eae1-b907a3356eb0"
      },
      "source": [
        "from sklearn.neural_network import MLPClassifier\n",
        "model = MLPClassifier(hidden_layer_sizes=())\n",
        "model.fit(X, y)"
      ],
      "execution_count": 21,
      "outputs": [
        {
          "output_type": "stream",
          "text": [
            "/usr/local/lib/python3.6/dist-packages/sklearn/neural_network/_multilayer_perceptron.py:571: ConvergenceWarning: Stochastic Optimizer: Maximum iterations (200) reached and the optimization hasn't converged yet.\n",
            "  % self.max_iter, ConvergenceWarning)\n"
          ],
          "name": "stderr"
        },
        {
          "output_type": "execute_result",
          "data": {
            "text/plain": [
              "MLPClassifier(activation='relu', alpha=0.0001, batch_size='auto', beta_1=0.9,\n",
              "              beta_2=0.999, early_stopping=False, epsilon=1e-08,\n",
              "              hidden_layer_sizes=(), learning_rate='constant',\n",
              "              learning_rate_init=0.001, max_fun=15000, max_iter=200,\n",
              "              momentum=0.9, n_iter_no_change=10, nesterovs_momentum=True,\n",
              "              power_t=0.5, random_state=None, shuffle=True, solver='adam',\n",
              "              tol=0.0001, validation_fraction=0.1, verbose=False,\n",
              "              warm_start=False)"
            ]
          },
          "metadata": {
            "tags": []
          },
          "execution_count": 21
        }
      ]
    },
    {
      "cell_type": "code",
      "metadata": {
        "id": "kyCWx9_1Thoz",
        "colab_type": "code",
        "colab": {
          "base_uri": "https://localhost:8080/",
          "height": 87
        },
        "outputId": "8e943bfb-b984-4f17-f968-5b0c70a04d1d"
      },
      "source": [
        "print(\"{} layers, {} outputs\".format(model.n_layers_, model.n_outputs_))\n",
        "print(model.coefs_)\n",
        "model.intercepts_"
      ],
      "execution_count": 26,
      "outputs": [
        {
          "output_type": "stream",
          "text": [
            "2 layers, 1 outputs\n",
            "[array([[0.15813274],\n",
            "       [0.53427523]])]\n"
          ],
          "name": "stdout"
        },
        {
          "output_type": "execute_result",
          "data": {
            "text/plain": [
              "[array([-0.40997676])]"
            ]
          },
          "metadata": {
            "tags": []
          },
          "execution_count": 26
        }
      ]
    },
    {
      "cell_type": "code",
      "metadata": {
        "id": "aVlAmqLeZgyj",
        "colab_type": "code",
        "colab": {}
      },
      "source": [
        ""
      ],
      "execution_count": 0,
      "outputs": []
    },
    {
      "cell_type": "code",
      "metadata": {
        "id": "v_2pb2OXaQZB",
        "colab_type": "code",
        "colab": {}
      },
      "source": [
        "y_hat = model.predict_proba(grid)[:,1]"
      ],
      "execution_count": 0,
      "outputs": []
    },
    {
      "cell_type": "code",
      "metadata": {
        "id": "NbOxMVHFc6h5",
        "colab_type": "code",
        "colab": {
          "base_uri": "https://localhost:8080/",
          "height": 34
        },
        "outputId": "2e58a4b8-de26-4404-c4be-b4212318e8a7"
      },
      "source": [
        "len(grid)"
      ],
      "execution_count": 52,
      "outputs": [
        {
          "output_type": "execute_result",
          "data": {
            "text/plain": [
              "160000"
            ]
          },
          "metadata": {
            "tags": []
          },
          "execution_count": 52
        }
      ]
    },
    {
      "cell_type": "code",
      "metadata": {
        "id": "yNQrdrczcXlq",
        "colab_type": "code",
        "colab": {}
      },
      "source": [
        "y_hat = y_hat.reshape(400,400)"
      ],
      "execution_count": 0,
      "outputs": []
    },
    {
      "cell_type": "code",
      "metadata": {
        "id": "xNdumQ0VTUaA",
        "colab_type": "code",
        "colab": {
          "base_uri": "https://localhost:8080/",
          "height": 286
        },
        "outputId": "aaf6d9a7-eba4-44cd-9dcd-1ebf9962eb63"
      },
      "source": [
        "plt.imshow(y_hat, cmap='RdBu')"
      ],
      "execution_count": 56,
      "outputs": [
        {
          "output_type": "execute_result",
          "data": {
            "text/plain": [
              "<matplotlib.image.AxesImage at 0x7f05f342a240>"
            ]
          },
          "metadata": {
            "tags": []
          },
          "execution_count": 56
        },
        {
          "output_type": "display_data",
          "data": {
            "image/png": "[encoded data removed]",
            "text/plain": [
              "<Figure size 432x288 with 1 Axes>"
            ]
          },
          "metadata": {
            "tags": []
          }
        }
      ]
    },
    {
      "cell_type": "code",
      "metadata": {
        "id": "pbYm4bGXGsgu",
        "colab_type": "code",
        "colab": {
          "base_uri": "https://localhost:8080/",
          "height": 332
        },
        "outputId": "dc99e182-d1fa-4bbe-e80e-141e3a0b9088"
      },
      "source": [
        "sklearn.show_versions()"
      ],
      "execution_count": 9,
      "outputs": [
        {
          "output_type": "stream",
          "text": [
            "\n",
            "System:\n",
            "    python: 3.6.9 (default, Nov  7 2019, 10:44:02)  [GCC 8.3.0]\n",
            "executable: /usr/bin/python3\n",
            "   machine: Linux-4.14.137+-x86_64-with-Ubuntu-18.04-bionic\n",
            "\n",
            "Python dependencies:\n",
            "       pip: 19.3.1\n",
            "setuptools: 45.2.0\n",
            "   sklearn: 0.22.1\n",
            "     numpy: 1.17.5\n",
            "     scipy: 1.4.1\n",
            "    Cython: 0.29.15\n",
            "    pandas: 0.25.3\n",
            "matplotlib: 3.1.3\n",
            "    joblib: 0.14.1\n",
            "\n",
            "Built with OpenMP: True\n"
          ],
          "name": "stdout"
        }
      ]
    },
    {
      "cell_type": "code",
      "metadata": {
        "id": "MAxZx2UfDTi0",
        "colab_type": "code",
        "colab": {
          "base_uri": "https://localhost:8080/",
          "height": 34
        },
        "outputId": "69a2ef2e-aaaf-4f4f-b6e0-3ffa771d8c34"
      },
      "source": [
        "model.hidden_layer_sizes"
      ],
      "execution_count": 12,
      "outputs": [
        {
          "output_type": "execute_result",
          "data": {
            "text/plain": [
              "()"
            ]
          },
          "metadata": {
            "tags": []
          },
          "execution_count": 12
        }
      ]
    },
    {
      "cell_type": "code",
      "metadata": {
        "id": "ZgkL5PYrHxgk",
        "colab_type": "code",
        "colab": {}
      },
      "source": [
        ""
      ],
      "execution_count": 0,
      "outputs": []
    }
  ]
}